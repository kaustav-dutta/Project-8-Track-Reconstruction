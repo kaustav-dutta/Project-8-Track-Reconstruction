{
 "cells": [
  {
   "cell_type": "markdown",
   "metadata": {},
   "source": [
    "## Track Statistics (Slope, Starting coordinate, Ending coordinate)"
   ]
  },
  {
   "cell_type": "markdown",
   "metadata": {},
   "source": [
    "#### This program is an attempt to show how STF works and the calculation of slopes of tracks."
   ]
  },
  {
   "cell_type": "code",
   "execution_count": 3,
   "metadata": {},
   "outputs": [],
   "source": [
    "import numpy as np\n",
    "import numpy.ma as ma\n",
    "import matplotlib.pyplot as plt\n",
    "import matplotlib.image as mpimg\n",
    "import time\n",
    "from scipy import misc\n",
    "import imageio\n",
    "from sklearn.metrics import auc\n",
    "from sklearn import metrics\n",
    "import math\n",
    "import random\n",
    "from scipy import stats\n",
    "import sklearn\n",
    "from sklearn.metrics import accuracy_score"
   ]
  },
  {
   "cell_type": "code",
   "execution_count": 4,
   "metadata": {},
   "outputs": [],
   "source": [
    "pi=math.pi\n",
    "tan=math.tan\n",
    "cos=math.cos\n",
    "sin=math.sin\n",
    "exp=math.exp\n",
    "sqrt=math.sqrt"
   ]
  },
  {
   "cell_type": "code",
   "execution_count": 5,
   "metadata": {},
   "outputs": [],
   "source": [
    "image=mpimg.imread(r\"\\Users\\Kaustav Dutta\\Desktop\\white_100.png\",)\n",
    "freq_min=10\n",
    "freq_max=image.shape[1]\n",
    "t_min=10\n",
    "t_max=image.shape[0]\n",
    "mean_life=15"
   ]
  },
  {
   "cell_type": "code",
   "execution_count": 539,
   "metadata": {
    "scrolled": false
   },
   "outputs": [
    {
     "data": {
      "image/png": "[encoded data removed]",
      "text/plain": [
       "<Figure size 432x288 with 1 Axes>"
      ]
     },
     "metadata": {
      "needs_background": "light"
     },
     "output_type": "display_data"
    },
    {
     "name": "stdout",
     "output_type": "stream",
     "text": [
      "202.84064483642578 seconds\n"
     ]
    }
   ],
   "source": [
    "fig=1000\n",
    "accuracy_hist=[]\n",
    "start=time.time()\n",
    "slope_stats=np.zeros(shape=100)\n",
    "for N in range(fig):\n",
    "\n",
    "    pixel_threshold=5\n",
    "    angle_dim=100\n",
    "    window_size=7\n",
    "    n_std=2.1\n",
    "    th_consecutive=3\n",
    "    max_spacing=25\n",
    "    \n",
    "    w0=random.randint(freq_min,15)\n",
    "    t0=random.randint(t_min,15)\n",
    "    \n",
    "    alpha=random.uniform(0.775,1.39626)\n",
    "    #print(\"Actual angle:\",90-np.degrees(alpha))\n",
    "    SNR=2.0\n",
    "    sigma=0.45\n",
    "\n",
    "    image=mpimg.imread(r\"\\Users\\Kaustav Dutta\\Desktop\\white_100.png\",)\n",
    "    pixel=get_image(image,w0,t0,alpha)\n",
    "    pixel_gray=get_gray(pixel)\n",
    "    th_true=np.mean(pixel)+np.std(pixel)\n",
    "    binary_gray=get_binary_gray(pixel_gray,th_true)\n",
    "    img=get_pixel_new(pixel_gray)\n",
    "    \n",
    "    #print(\"------------------After taking consecutive pixels------------------\")\n",
    "    #plt.figure(figsize=(11,11))\n",
    "    #plt.subplot(131), plt.imshow(img,origin='lower'),plt.title('Noisy Image')\n",
    "    binary_final=sequential_track_finder(img,window_size)\n",
    "    #plt.subplot(133),plt.imshow(binary_final,origin='lower'),plt.title('Sequential Track Finder Output')\n",
    "    #plt.show()\n",
    "    \n",
    "    start_x,start_y,end_x,end_y,slope_avg=get_track_stats(binary_final,window_size)\n",
    "    if(np.mean(slope_avg)>0):\n",
    "        slope_stats[int((100-((abs(np.mean(slope_avg)-alpha)/alpha))))]=slope_stats[int((100-((abs(np.mean(slope_avg)-alpha)/alpha))))]+1\n",
    "    \n",
    "    #print(\"No. of track(s) found:\",len(start_x))\n",
    "    #for track in range(len(start_x)):\n",
    "     #   print(\"--------------Stats for track----------\")\n",
    "     #   print(\"Start x coord:\",start_y[track])\n",
    "     #   print(\"Start y coord:\",start_x[track])\n",
    "     #   print(\"End x coord:\",end_y[track])\n",
    "     #   print(\"End y coord:\",end_x[track])\n",
    "     #   print(\"Slope:\",slope_avg[track])\n",
    "    \n",
    "plt.plot(slope_stats)\n",
    "plt.title(\"Sequential Track Finder(1000 spectrograms)\")\n",
    "plt.ylim(0,50,1)\n",
    "plt.xlabel(\"Accuracy(Percentage)\")\n",
    "plt.ylabel(\"No. of spectrograms\")\n",
    "plt.show()\n",
    "\n",
    "end = time.time()\n",
    "print(end-start, \"seconds\")"
   ]
  },
  {
   "cell_type": "code",
   "execution_count": 483,
   "metadata": {},
   "outputs": [],
   "source": [
    "def get_image(image,w0,t0,angle):\n",
    "    start=time.time()\n",
    "    t_prev=t0\n",
    "    freq_prev=w0\n",
    "    \n",
    "    while(True):\n",
    "        scatter_time=math.floor(t_prev+10+np.random.exponential(mean_life))  #Scattering times follow an exponential distribution\n",
    "       # scatter_time=random.randint(t_prev+mean_life,t_prev+3*mean_life) \n",
    "        scatter_freq=round(((scatter_time-t_prev)/tan(angle))+freq_prev)\n",
    "        if((scatter_time>=t_max-5)or(scatter_freq>=freq_max-5)):\n",
    "            break\n",
    "            \n",
    "        ybar=freq_prev\n",
    "        xbar=t_prev\n",
    "    \n",
    "        for i in range(t_prev,scatter_time):\n",
    "            for j in range(freq_prev,scatter_freq):\n",
    "                intensity=SNR*exp(-((((j-ybar))*sin(alpha))-(((i-xbar))*cos(alpha)))**2/(2*(sigma)**2))\n",
    "                image[j,i]=(intensity,intensity,0)\n",
    "                \n",
    "        t_prev=scatter_time+3\n",
    "        freq_prev=int(scatter_freq+get_energy_loss())\n",
    "        \n",
    "    for i in range(image.shape[0]):\n",
    "        for j in range(image.shape[1]):\n",
    "            if (image[i,j][0]==image[i,j][1]==image[i,j][2]==1):\n",
    "                image[i,j]=(0,0,0)\n",
    "    end=time.time()\n",
    "    #print(\"Time:get_image()\",end-start)\n",
    "    return image"
   ]
  },
  {
   "cell_type": "code",
   "execution_count": 7,
   "metadata": {},
   "outputs": [],
   "source": [
    "def get_energy_loss():\n",
    "    u=np.random.uniform(0,1)\n",
    "    if(u<=0.48):\n",
    "        gen_loss=np.random.normal(12.6,0.925)\n",
    "    else:\n",
    "        while(True):\n",
    "            gen_loss=stats.cauchy.rvs(14.1,6.25)\n",
    "            if(gen_loss>=14.1):break\n",
    "    return(gen_loss)"
   ]
  },
  {
   "cell_type": "code",
   "execution_count": 8,
   "metadata": {},
   "outputs": [],
   "source": [
    "def get_gray(pixel):\n",
    "    start=time.time()\n",
    "    pixel_gray=np.dot(pixel,[1,1,1])\n",
    "    end=time.time()\n",
    "   # print(\"Time:get_gray()\",end-start)\n",
    "    return pixel_gray"
   ]
  },
  {
   "cell_type": "code",
   "execution_count": 9,
   "metadata": {},
   "outputs": [],
   "source": [
    "def get_binary_gray(pixel_gray,th_true):\n",
    "    start=time.time()\n",
    "    binary_gray=np.zeros(shape=(pixel_gray.shape[0],pixel_gray.shape[1]))\n",
    "    for i in range(pixel_gray.shape[0]):\n",
    "        for j in range(pixel_gray.shape[1]):\n",
    "            binary_gray[i,j]=0 if (pixel_gray[i,j]<(th_true*np.max(pixel_gray))) else 1\n",
    "    end=time.time()\n",
    "   # print(\"Time:get_binary_gray\",end-start)\n",
    "    return binary_gray"
   ]
  },
  {
   "cell_type": "code",
   "execution_count": 10,
   "metadata": {},
   "outputs": [],
   "source": [
    "def get_pixel_new(pixel_gray):\n",
    "    start=time.time()\n",
    "    noise=np.random.exponential(1.0,pixel_gray.shape)    \n",
    "    pixel_new = SNR*pixel_gray+noise\n",
    "    end=time.time()\n",
    "   # print(\"Time:get_pixel_gray()\",end-start)\n",
    "    return pixel_new"
   ]
  },
  {
   "cell_type": "code",
   "execution_count": 521,
   "metadata": {},
   "outputs": [],
   "source": [
    "def sequential_track_finder(img,size):\n",
    "    \n",
    "    binary_final=np.zeros(shape=img.shape)\n",
    "    #binary_final=binary_final/255\n",
    "    for x in range(img.shape[0]):\n",
    "        max_intensity=np.max(img[x,:])\n",
    "        for y in range(img.shape[1]):\n",
    "            if(img[x,y]>=(max_intensity-6)and img[x,y]<=(max_intensity)):\n",
    "                window_sum=np.sum(img[x-int(size/2):x+int(size/2),y-int(size/2):y+int(size/2)])\n",
    "                if(window_sum>=60):\n",
    "                    binary_final[x,y]=img[x,y]\n",
    "                    \n",
    "    return binary_final"
   ]
  },
  {
   "cell_type": "code",
   "execution_count": 525,
   "metadata": {},
   "outputs": [],
   "source": [
    "def get_track_stats(binary_final,size):\n",
    "    start_x=[]\n",
    "    start_y=[]\n",
    "    end_x=[]\n",
    "    end_y=[]\n",
    "    slope_avg=[]\n",
    "    vacant_row=1\n",
    "    y=-1\n",
    "    x=0\n",
    "    x_ref=0\n",
    "    while(y<binary_final.shape[1]-1):\n",
    "        y=y+1\n",
    "        track_pixel=0\n",
    "        sum=np.sum(binary_final[:,y])\n",
    "        if(sum>=5):\n",
    "            for x in range(int(size/2),binary_final.shape[0]-int(size/2)): #This is for checking the starting pixel coordinates of a track\n",
    "                if(binary_final[x,y]>7):\n",
    "                    window_sum=np.sum(binary_final[x-int(size/2):x+int(size/2),y-int(size/2):y+int(size/2)])\n",
    "                    if(window_sum>=60):\n",
    "                        track_pixel=1\n",
    "                        start_x.append(x)\n",
    "                        start_y.append(y)\n",
    "                        break\n",
    "                    else:\n",
    "                        track_pixel=0\n",
    "       # print(y)\n",
    "        if(track_pixel==1):\n",
    "            pixel_prev_y=y\n",
    "            pixel_prev_x=x\n",
    "            pixel_count=1\n",
    "            slope_sum=0\n",
    "            vacant_row_total=0\n",
    "            while(y<binary_final.shape[0]-1):\n",
    "                y=y+1\n",
    "                if(np.sum(binary_final[:,y])>0):\n",
    "                    for x in range(int(size/2),binary_final.shape[0]-int(size/2)): #This is for checking the ending pixel coordinates of a track\n",
    "                    \n",
    "                        if(binary_final[x,y]>0):\n",
    "                            window_sum=np.sum(binary_final[x-int(size/2):x+int(size/2),y-int(size/2):y+int(size/2)])\n",
    "                            if(window_sum>=60):\n",
    "                                pixel_count=pixel_count+1\n",
    "                                if(y==pixel_prev_y):\n",
    "                                    slope_sum=slope_sum+90\n",
    "                                slope_sum=slope_sum+np.degrees((x-pixel_prev_x)/(y-pixel_prev_y))\n",
    "                                pixel_prev_x=x\n",
    "                                pixel_prev_y=y\n",
    "                                vacant_row=0  #This means that the bright pixels in a row are actually track pixels\n",
    "                                x_ref=x\n",
    "                                break\n",
    "                            else:\n",
    "                                vacant_row=1  #This means that the bright pixels in a row are actually noise\n",
    "                #print(vacant_row)\n",
    "                if(np.sum(binary_final[:,y])==0 or vacant_row==1):\n",
    "                    vacant_row_total=vacant_row_total+1\n",
    "                    vacant_row=1\n",
    "                \n",
    "                if(vacant_row_total==3):\n",
    "                    #print(y-2)\n",
    "                    end_y.append(y-3)\n",
    "                    end_x.append(x_ref)\n",
    "                    slope_avg.append((slope_sum/pixel_count))\n",
    "                    break    \n",
    "\n",
    "    return start_x,start_y,end_x,end_y,slope_avg"
   ]
  }
 ],
 "metadata": {
  "kernelspec": {
   "display_name": "Python 3",
   "language": "python",
   "name": "python3"
  },
  "language_info": {
   "codemirror_mode": {
    "name": "ipython",
    "version": 3
   },
   "file_extension": ".py",
   "mimetype": "text/x-python",
   "name": "python",
   "nbconvert_exporter": "python",
   "pygments_lexer": "ipython3",
   "version": "3.7.4"
  }
 },
 "nbformat": 4,
 "nbformat_minor": 4
}
