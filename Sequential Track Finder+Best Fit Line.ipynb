{
 "cells": [
  {
   "cell_type": "markdown",
   "metadata": {},
   "source": [
    "## Track Statistics (Slope, Starting coordinate, Ending coordinate)"
   ]
  },
  {
   "cell_type": "markdown",
   "metadata": {},
   "source": [
    "#### This program is an attempt to show how STF works and the calculation of slopes of tracks."
   ]
  },
  {
   "cell_type": "code",
   "execution_count": 1,
   "metadata": {},
   "outputs": [],
   "source": [
    "import numpy as np\n",
    "import numpy.ma as ma\n",
    "import matplotlib.pyplot as plt\n",
    "import matplotlib.image as mpimg\n",
    "import time\n",
    "from scipy import misc\n",
    "import imageio\n",
    "from sklearn.metrics import auc\n",
    "from sklearn import metrics\n",
    "import math\n",
    "import random\n",
    "from scipy import stats\n",
    "import sklearn\n",
    "from sklearn.metrics import accuracy_score"
   ]
  },
  {
   "cell_type": "code",
   "execution_count": 2,
   "metadata": {},
   "outputs": [],
   "source": [
    "pi=math.pi\n",
    "tan=math.tan\n",
    "cos=math.cos\n",
    "sin=math.sin\n",
    "exp=math.exp\n",
    "sqrt=math.sqrt"
   ]
  },
  {
   "cell_type": "code",
   "execution_count": 3,
   "metadata": {},
   "outputs": [],
   "source": [
    "image=mpimg.imread(r\"\\Users\\Kaustav Dutta\\Desktop\\white_100.png\",)\n",
    "freq_min=10\n",
    "freq_max=image.shape[1]\n",
    "t_min=10\n",
    "t_max=image.shape[0]\n",
    "mean_life=15"
   ]
  },
  {
   "cell_type": "code",
   "execution_count": 358,
   "metadata": {
    "scrolled": false
   },
   "outputs": [
    {
     "data": {
      "image/png": "[encoded data removed]",
      "text/plain": [
       "<Figure size 432x288 with 1 Axes>"
      ]
     },
     "metadata": {
      "needs_background": "light"
     },
     "output_type": "display_data"
    },
    {
     "name": "stdout",
     "output_type": "stream",
     "text": [
      "22.89503049850464 seconds\n"
     ]
    }
   ],
   "source": [
    "fig=100\n",
    "accuracy_hist=[]\n",
    "start=time.time()\n",
    "slope_stats=np.zeros(shape=100)\n",
    "hist=[]\n",
    "for N in range(fig):\n",
    "    pixel_threshold=5\n",
    "    angle_dim=100\n",
    "    window_size=7\n",
    "    n_std=2.1\n",
    "    th_consecutive=3\n",
    "    max_spacing=25\n",
    "    \n",
    "    w0=random.randint(freq_min,15)\n",
    "    t0=random.randint(t_min,15)\n",
    "    \n",
    "    alpha=random.uniform(1.111,1.555)\n",
    "    SNR=2.5\n",
    "    sigma=0.5\n",
    "\n",
    "    image=mpimg.imread(r\"\\Users\\Kaustav Dutta\\Desktop\\white_100.png\",)\n",
    "    pixel=get_image(image,w0,t0,alpha)\n",
    "    pixel_gray=get_gray(pixel)\n",
    "    th_true=np.mean(pixel)+np.std(pixel)\n",
    "    binary_gray=get_binary_gray(pixel_gray,th_true)\n",
    "    img=get_pixel_new(pixel_gray)\n",
    "    \n",
    "    binary_final=sequential_track_finder(img,window_size)\n",
    "    \n",
    "    start_x,start_y,end_x,end_y=get_track_stats(binary_final,window_size)\n",
    "    for track in range(len(start_x)):\n",
    "        window=binary_final[start_x[track]-5:end_x[track]+5,start_y[track]-5:end_y[track]+5]\n",
    "        slope=get_best_fit(window)\n",
    "        diff=abs((90-np.degrees(alpha))-slope)\n",
    "        if(diff<=5):\n",
    "            hist.append(int(diff/0.5))\n",
    "    \n",
    "                    \n",
    "plt.hist(hist,bins =[0,1,2,3,4,5,6,7,8,9])\n",
    "x = np.array([0.3,1.3,2.3,3.3,4.3,5.3,6.3,7.3,8.3,9.3,10.3])\n",
    "my_xticks = ['0-0.5','0.5-1.0','1-1.5','1.5-2.0','2.0-2.5','2.5-3.0','3.0-3.5','3.5-4.0','4.0-4.5','4.5-5.0']\n",
    "plt.xticks(x,my_xticks,fontsize=8)\n",
    "plt.xlabel(\"Absolute different between predicted and actual slopes\")\n",
    "plt.ylabel(\"Number of spectrograms\")\n",
    "plt.title(\"Single Track, SNR=2.5\")\n",
    "plt.show()\n",
    "                    \n",
    "                    \n",
    "                    \n",
    "end = time.time()\n",
    "print(end-start, \"seconds\")"
   ]
  },
  {
   "cell_type": "code",
   "execution_count": 317,
   "metadata": {},
   "outputs": [],
   "source": [
    "def get_best_fit(window):\n",
    "    x_pts=[]\n",
    "    y_pts=[]\n",
    "    num=0\n",
    "    den=0\n",
    "    sum=0\n",
    "    for i in range(window.shape[0]):\n",
    "        for j in range(window.shape[1]):\n",
    "            if(window[i,j]>0):\n",
    "                x_pts.append(i)\n",
    "                y_pts.append(j)\n",
    "    mean_x=np.mean(x_pts)\n",
    "    mean_y=np.mean(y_pts)\n",
    "    for i in range(len(x_pts)):\n",
    "        sum=sum+window[x_pts[i],y_pts[i]]\n",
    "    I_avg=sum/len(x_pts)\n",
    "        \n",
    "    for n in range(len(x_pts)):\n",
    "        num=num+(window[x_pts[n],y_pts[n]]**2)*(x_pts[n]-mean_x)*(y_pts[n]-mean_y)\n",
    "    for n in range(len(x_pts)):\n",
    "        den=den+(window[x_pts[n],y_pts[n]]**2)*(y_pts[n]-mean_y)**2\n",
    "    slope=num/den\n",
    "    return np.degrees(math.atan(slope))"
   ]
  },
  {
   "cell_type": "code",
   "execution_count": 6,
   "metadata": {},
   "outputs": [],
   "source": [
    "def get_image(image,w0,t0,angle):\n",
    "    start=time.time()\n",
    "    t_prev=t0\n",
    "    freq_prev=w0\n",
    "    \n",
    "    scatter_time=t_prev+30 #Scattering times follow an exponential distribution\n",
    "    scatter_freq=round(((scatter_time-t_prev)/tan(angle))+freq_prev)\n",
    "            \n",
    "    ybar=freq_prev\n",
    "    xbar=t_prev\n",
    "    \n",
    "    for i in range(t_prev,scatter_time):\n",
    "        for j in range(freq_prev,scatter_freq):\n",
    "            intensity=SNR*exp(-((((j-ybar))*sin(alpha))-(((i-xbar))*cos(alpha)))**2/(2*(sigma)**2))\n",
    "            image[j,i]=(intensity,intensity,0)\n",
    "                \n",
    "    t_prev=scatter_time+3\n",
    "    freq_prev=int(scatter_freq+get_energy_loss())\n",
    "        \n",
    "    for i in range(image.shape[0]):\n",
    "        for j in range(image.shape[1]):\n",
    "            if (image[i,j][0]==image[i,j][1]==image[i,j][2]==1):\n",
    "                image[i,j]=(0,0,0)\n",
    "    end=time.time()\n",
    "    #print(\"Time:get_image()\",end-start)\n",
    "    return image"
   ]
  },
  {
   "cell_type": "code",
   "execution_count": 7,
   "metadata": {},
   "outputs": [],
   "source": [
    "def get_energy_loss():\n",
    "    u=np.random.uniform(0,1)\n",
    "    if(u<=0.48):\n",
    "        gen_loss=np.random.normal(12.6,0.925)\n",
    "    else:\n",
    "        while(True):\n",
    "            gen_loss=stats.cauchy.rvs(14.1,6.25)\n",
    "            if(gen_loss>=14.1):break\n",
    "    return(gen_loss)"
   ]
  },
  {
   "cell_type": "code",
   "execution_count": 8,
   "metadata": {},
   "outputs": [],
   "source": [
    "def get_gray(pixel):\n",
    "    start=time.time()\n",
    "    pixel_gray=np.dot(pixel,[1,1,1])\n",
    "    end=time.time()\n",
    "   # print(\"Time:get_gray()\",end-start)\n",
    "    return pixel_gray"
   ]
  },
  {
   "cell_type": "code",
   "execution_count": 9,
   "metadata": {},
   "outputs": [],
   "source": [
    "def get_binary_gray(pixel_gray,th_true):\n",
    "    start=time.time()\n",
    "    binary_gray=np.zeros(shape=(pixel_gray.shape[0],pixel_gray.shape[1]))\n",
    "    for i in range(pixel_gray.shape[0]):\n",
    "        for j in range(pixel_gray.shape[1]):\n",
    "            binary_gray[i,j]=0 if (pixel_gray[i,j]<(th_true*np.max(pixel_gray))) else 1\n",
    "    end=time.time()\n",
    "   # print(\"Time:get_binary_gray\",end-start)\n",
    "    return binary_gray"
   ]
  },
  {
   "cell_type": "code",
   "execution_count": 10,
   "metadata": {},
   "outputs": [],
   "source": [
    "def get_pixel_new(pixel_gray):\n",
    "    start=time.time()\n",
    "    noise=np.random.exponential(1.0,pixel_gray.shape)    \n",
    "    pixel_new = SNR*pixel_gray+noise\n",
    "    end=time.time()\n",
    "   # print(\"Time:get_pixel_gray()\",end-start)\n",
    "    return pixel_new"
   ]
  },
  {
   "cell_type": "code",
   "execution_count": 11,
   "metadata": {},
   "outputs": [],
   "source": [
    "def sequential_track_finder(img,size):\n",
    "    \n",
    "    binary_final=np.zeros(shape=img.shape)\n",
    "    #binary_final=binary_final/255\n",
    "    for x in range(img.shape[0]):\n",
    "        max_intensity=np.max(img[x,:])\n",
    "        for y in range(img.shape[1]):\n",
    "            if(img[x,y]>=(max_intensity-6)and img[x,y]<=(max_intensity)):\n",
    "                window_sum=np.sum(img[x-int(size/2):x+int(size/2),y-int(size/2):y+int(size/2)])\n",
    "                if(window_sum>=60):\n",
    "                    binary_final[x,y]=img[x,y]\n",
    "                    \n",
    "    return binary_final"
   ]
  },
  {
   "cell_type": "code",
   "execution_count": 258,
   "metadata": {},
   "outputs": [],
   "source": [
    "def get_track_stats(binary_final,size):\n",
    "    start_x=[]\n",
    "    start_y=[]\n",
    "    end_x=[]\n",
    "    end_y=[]\n",
    "    vacant_row=1\n",
    "    y=-1\n",
    "    x=0\n",
    "    x_ref=0\n",
    "    while(y<binary_final.shape[1]-1):\n",
    "        y=y+1\n",
    "        track_pixel=0\n",
    "        sum=np.sum(binary_final[:,y])\n",
    "        if(sum>0):\n",
    "            for x in range(int(size/2),binary_final.shape[0]-int(size/2)): #This is for checking the starting pixel coordinates of a track\n",
    "                if(binary_final[x,y]>0):\n",
    "                    window_sum=np.sum(binary_final[x-int(size/2):x+int(size/2),y-int(size/2):y+int(size/2)])\n",
    "                    if(window_sum>=50):\n",
    "                        track_pixel=1\n",
    "                        start_x.append(x)\n",
    "                        start_y.append(y)\n",
    "                        break\n",
    "                    else:\n",
    "                        track_pixel=0\n",
    "       # print(y)\n",
    "        if(track_pixel==1):\n",
    "            vacant_row_total=0\n",
    "            while(y<binary_final.shape[0]-1):\n",
    "                y=y+1\n",
    "                if(np.sum(binary_final[:,y])>0):\n",
    "                    for x in range(int(size/2),binary_final.shape[0]-int(size/2)): #This is for checking the ending pixel coordinates of a track\n",
    "                    \n",
    "                        if(binary_final[x,y]>0):\n",
    "                            window_sum=np.sum(binary_final[x-int(size/2):x+int(size/2),y-int(size/2):y+int(size/2)])\n",
    "                            if(window_sum>=50):\n",
    "                                vacant_row=0  #This means that the bright pixels in a row are actually track pixels\n",
    "                                x_ref=x\n",
    "                                break\n",
    "                            else:\n",
    "                                vacant_row=1  #This means that the bright pixels in a row are actually noise\n",
    "                #print(vacant_row)\n",
    "                if(np.sum(binary_final[:,y])==0 or vacant_row==1):\n",
    "                    vacant_row_total=vacant_row_total+1\n",
    "                    vacant_row=1\n",
    "                \n",
    "                if(vacant_row_total==4):\n",
    "                    #print(y-2)\n",
    "                    end_y.append(y-4)\n",
    "                    end_x.append(x_ref)\n",
    "                    break    \n",
    "\n",
    "    return start_x,start_y,end_x,end_y"
   ]
  }
 ],
 "metadata": {
  "kernelspec": {
   "display_name": "Python 3",
   "language": "python",
   "name": "python3"
  },
  "language_info": {
   "codemirror_mode": {
    "name": "ipython",
    "version": 3
   },
   "file_extension": ".py",
   "mimetype": "text/x-python",
   "name": "python",
   "nbconvert_exporter": "python",
   "pygments_lexer": "ipython3",
   "version": "3.7.4"
  }
 },
 "nbformat": 4,
 "nbformat_minor": 4
}
