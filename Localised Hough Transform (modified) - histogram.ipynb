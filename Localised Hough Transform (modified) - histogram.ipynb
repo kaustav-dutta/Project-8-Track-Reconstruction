{
 "cells": [
  {
   "cell_type": "markdown",
   "metadata": {},
   "source": [
    "This program generates spectrograms."
   ]
  },
  {
   "cell_type": "code",
   "execution_count": 2,
   "metadata": {},
   "outputs": [],
   "source": [
    "import numpy as np\n",
    "import matplotlib.pyplot as plt\n",
    "import matplotlib.image as mpimg\n",
    "import pandas\n",
    "import math\n",
    "import random\n",
    "import time\n",
    "from scipy import stats\n",
    "import sklearn\n",
    "from sklearn.metrics import accuracy_score"
   ]
  },
  {
   "cell_type": "code",
   "execution_count": 3,
   "metadata": {},
   "outputs": [],
   "source": [
    "pi=math.pi\n",
    "tan=math.tan\n",
    "cos=math.cos\n",
    "sin=math.sin\n",
    "exp=math.exp\n",
    "sqrt=math.sqrt"
   ]
  },
  {
   "cell_type": "code",
   "execution_count": 4,
   "metadata": {},
   "outputs": [],
   "source": [
    "image=mpimg.imread(r\"\\Users\\Kaustav Dutta\\Desktop\\white_100.png\",)\n",
    "freq_min=10\n",
    "freq_max=image.shape[1]\n",
    "t_min=10\n",
    "t_max=image.shape[0]\n",
    "mean_life=15"
   ]
  },
  {
   "cell_type": "code",
   "execution_count": 124,
   "metadata": {
    "scrolled": false
   },
   "outputs": [
    {
     "name": "stderr",
     "output_type": "stream",
     "text": [
      "C:\\Users\\Kaustav Dutta\\Anaconda3\\lib\\site-packages\\ipykernel_launcher.py:41: RuntimeWarning: More than 20 figures have been opened. Figures created through the pyplot interface (`matplotlib.pyplot.figure`) are retained until explicitly closed and may consume too much memory. (To control this warning, see the rcParam `figure.max_open_warning`).\n"
     ]
    },
    {
     "name": "stdout",
     "output_type": "stream",
     "text": [
      "61.512670040130615\n"
     ]
    },
    {
     "data": {
      "text/plain": [
       "<Figure size 792x792 with 0 Axes>"
      ]
     },
     "metadata": {},
     "output_type": "display_data"
    },
    {
     "data": {
      "text/plain": [
       "<Figure size 792x792 with 0 Axes>"
      ]
     },
     "metadata": {},
     "output_type": "display_data"
    },
    {
     "data": {
      "text/plain": [
       "<Figure size 792x792 with 0 Axes>"
      ]
     },
     "metadata": {},
     "output_type": "display_data"
    },
    {
     "data": {
      "text/plain": [
       "<Figure size 792x792 with 0 Axes>"
      ]
     },
     "metadata": {},
     "output_type": "display_data"
    },
    {
     "data": {
      "text/plain": [
       "<Figure size 792x792 with 0 Axes>"
      ]
     },
     "metadata": {},
     "output_type": "display_data"
    },
    {
     "data": {
      "text/plain": [
       "<Figure size 792x792 with 0 Axes>"
      ]
     },
     "metadata": {},
     "output_type": "display_data"
    },
    {
     "data": {
      "text/plain": [
       "<Figure size 792x792 with 0 Axes>"
      ]
     },
     "metadata": {},
     "output_type": "display_data"
    },
    {
     "data": {
      "text/plain": [
       "<Figure size 792x792 with 0 Axes>"
      ]
     },
     "metadata": {},
     "output_type": "display_data"
    },
    {
     "data": {
      "text/plain": [
       "<Figure size 792x792 with 0 Axes>"
      ]
     },
     "metadata": {},
     "output_type": "display_data"
    },
    {
     "data": {
      "text/plain": [
       "<Figure size 792x792 with 0 Axes>"
      ]
     },
     "metadata": {},
     "output_type": "display_data"
    },
    {
     "data": {
      "text/plain": [
       "<Figure size 792x792 with 0 Axes>"
      ]
     },
     "metadata": {},
     "output_type": "display_data"
    },
    {
     "data": {
      "text/plain": [
       "<Figure size 792x792 with 0 Axes>"
      ]
     },
     "metadata": {},
     "output_type": "display_data"
    },
    {
     "data": {
      "text/plain": [
       "<Figure size 792x792 with 0 Axes>"
      ]
     },
     "metadata": {},
     "output_type": "display_data"
    },
    {
     "data": {
      "text/plain": [
       "<Figure size 792x792 with 0 Axes>"
      ]
     },
     "metadata": {},
     "output_type": "display_data"
    },
    {
     "data": {
      "text/plain": [
       "<Figure size 792x792 with 0 Axes>"
      ]
     },
     "metadata": {},
     "output_type": "display_data"
    },
    {
     "data": {
      "text/plain": [
       "<Figure size 792x792 with 0 Axes>"
      ]
     },
     "metadata": {},
     "output_type": "display_data"
    },
    {
     "data": {
      "text/plain": [
       "<Figure size 792x792 with 0 Axes>"
      ]
     },
     "metadata": {},
     "output_type": "display_data"
    },
    {
     "data": {
      "text/plain": [
       "<Figure size 792x792 with 0 Axes>"
      ]
     },
     "metadata": {},
     "output_type": "display_data"
    },
    {
     "data": {
      "text/plain": [
       "<Figure size 792x792 with 0 Axes>"
      ]
     },
     "metadata": {},
     "output_type": "display_data"
    },
    {
     "data": {
      "text/plain": [
       "<Figure size 792x792 with 0 Axes>"
      ]
     },
     "metadata": {},
     "output_type": "display_data"
    },
    {
     "data": {
      "text/plain": [
       "<Figure size 792x792 with 0 Axes>"
      ]
     },
     "metadata": {},
     "output_type": "display_data"
    },
    {
     "data": {
      "text/plain": [
       "<Figure size 792x792 with 0 Axes>"
      ]
     },
     "metadata": {},
     "output_type": "display_data"
    },
    {
     "data": {
      "text/plain": [
       "<Figure size 792x792 with 0 Axes>"
      ]
     },
     "metadata": {},
     "output_type": "display_data"
    },
    {
     "data": {
      "text/plain": [
       "<Figure size 792x792 with 0 Axes>"
      ]
     },
     "metadata": {},
     "output_type": "display_data"
    },
    {
     "data": {
      "text/plain": [
       "<Figure size 792x792 with 0 Axes>"
      ]
     },
     "metadata": {},
     "output_type": "display_data"
    },
    {
     "data": {
      "text/plain": [
       "<Figure size 792x792 with 0 Axes>"
      ]
     },
     "metadata": {},
     "output_type": "display_data"
    },
    {
     "data": {
      "text/plain": [
       "<Figure size 792x792 with 0 Axes>"
      ]
     },
     "metadata": {},
     "output_type": "display_data"
    },
    {
     "data": {
      "text/plain": [
       "<Figure size 792x792 with 0 Axes>"
      ]
     },
     "metadata": {},
     "output_type": "display_data"
    },
    {
     "data": {
      "text/plain": [
       "<Figure size 792x792 with 0 Axes>"
      ]
     },
     "metadata": {},
     "output_type": "display_data"
    },
    {
     "data": {
      "text/plain": [
       "<Figure size 792x792 with 0 Axes>"
      ]
     },
     "metadata": {},
     "output_type": "display_data"
    },
    {
     "data": {
      "text/plain": [
       "<Figure size 792x792 with 0 Axes>"
      ]
     },
     "metadata": {},
     "output_type": "display_data"
    },
    {
     "data": {
      "text/plain": [
       "<Figure size 792x792 with 0 Axes>"
      ]
     },
     "metadata": {},
     "output_type": "display_data"
    },
    {
     "data": {
      "text/plain": [
       "<Figure size 792x792 with 0 Axes>"
      ]
     },
     "metadata": {},
     "output_type": "display_data"
    },
    {
     "data": {
      "text/plain": [
       "<Figure size 792x792 with 0 Axes>"
      ]
     },
     "metadata": {},
     "output_type": "display_data"
    },
    {
     "data": {
      "text/plain": [
       "<Figure size 792x792 with 0 Axes>"
      ]
     },
     "metadata": {},
     "output_type": "display_data"
    },
    {
     "data": {
      "text/plain": [
       "<Figure size 792x792 with 0 Axes>"
      ]
     },
     "metadata": {},
     "output_type": "display_data"
    },
    {
     "data": {
      "text/plain": [
       "<Figure size 792x792 with 0 Axes>"
      ]
     },
     "metadata": {},
     "output_type": "display_data"
    },
    {
     "data": {
      "text/plain": [
       "<Figure size 792x792 with 0 Axes>"
      ]
     },
     "metadata": {},
     "output_type": "display_data"
    },
    {
     "data": {
      "text/plain": [
       "<Figure size 792x792 with 0 Axes>"
      ]
     },
     "metadata": {},
     "output_type": "display_data"
    },
    {
     "data": {
      "text/plain": [
       "<Figure size 792x792 with 0 Axes>"
      ]
     },
     "metadata": {},
     "output_type": "display_data"
    },
    {
     "data": {
      "text/plain": [
       "<Figure size 792x792 with 0 Axes>"
      ]
     },
     "metadata": {},
     "output_type": "display_data"
    },
    {
     "data": {
      "text/plain": [
       "<Figure size 792x792 with 0 Axes>"
      ]
     },
     "metadata": {},
     "output_type": "display_data"
    },
    {
     "data": {
      "text/plain": [
       "<Figure size 792x792 with 0 Axes>"
      ]
     },
     "metadata": {},
     "output_type": "display_data"
    },
    {
     "data": {
      "text/plain": [
       "<Figure size 792x792 with 0 Axes>"
      ]
     },
     "metadata": {},
     "output_type": "display_data"
    },
    {
     "data": {
      "text/plain": [
       "<Figure size 792x792 with 0 Axes>"
      ]
     },
     "metadata": {},
     "output_type": "display_data"
    },
    {
     "data": {
      "text/plain": [
       "<Figure size 792x792 with 0 Axes>"
      ]
     },
     "metadata": {},
     "output_type": "display_data"
    },
    {
     "data": {
      "text/plain": [
       "<Figure size 792x792 with 0 Axes>"
      ]
     },
     "metadata": {},
     "output_type": "display_data"
    },
    {
     "data": {
      "text/plain": [
       "<Figure size 792x792 with 0 Axes>"
      ]
     },
     "metadata": {},
     "output_type": "display_data"
    },
    {
     "data": {
      "text/plain": [
       "<Figure size 792x792 with 0 Axes>"
      ]
     },
     "metadata": {},
     "output_type": "display_data"
    },
    {
     "data": {
      "text/plain": [
       "<Figure size 792x792 with 0 Axes>"
      ]
     },
     "metadata": {},
     "output_type": "display_data"
    },
    {
     "data": {
      "text/plain": [
       "<Figure size 792x792 with 0 Axes>"
      ]
     },
     "metadata": {},
     "output_type": "display_data"
    },
    {
     "data": {
      "text/plain": [
       "<Figure size 792x792 with 0 Axes>"
      ]
     },
     "metadata": {},
     "output_type": "display_data"
    },
    {
     "data": {
      "text/plain": [
       "<Figure size 792x792 with 0 Axes>"
      ]
     },
     "metadata": {},
     "output_type": "display_data"
    },
    {
     "data": {
      "text/plain": [
       "<Figure size 792x792 with 0 Axes>"
      ]
     },
     "metadata": {},
     "output_type": "display_data"
    },
    {
     "data": {
      "text/plain": [
       "<Figure size 792x792 with 0 Axes>"
      ]
     },
     "metadata": {},
     "output_type": "display_data"
    },
    {
     "data": {
      "text/plain": [
       "<Figure size 792x792 with 0 Axes>"
      ]
     },
     "metadata": {},
     "output_type": "display_data"
    },
    {
     "data": {
      "text/plain": [
       "<Figure size 792x792 with 0 Axes>"
      ]
     },
     "metadata": {},
     "output_type": "display_data"
    },
    {
     "data": {
      "text/plain": [
       "<Figure size 792x792 with 0 Axes>"
      ]
     },
     "metadata": {},
     "output_type": "display_data"
    },
    {
     "data": {
      "text/plain": [
       "<Figure size 792x792 with 0 Axes>"
      ]
     },
     "metadata": {},
     "output_type": "display_data"
    },
    {
     "data": {
      "text/plain": [
       "<Figure size 792x792 with 0 Axes>"
      ]
     },
     "metadata": {},
     "output_type": "display_data"
    },
    {
     "data": {
      "text/plain": [
       "<Figure size 792x792 with 0 Axes>"
      ]
     },
     "metadata": {},
     "output_type": "display_data"
    },
    {
     "data": {
      "text/plain": [
       "<Figure size 792x792 with 0 Axes>"
      ]
     },
     "metadata": {},
     "output_type": "display_data"
    },
    {
     "data": {
      "text/plain": [
       "<Figure size 792x792 with 0 Axes>"
      ]
     },
     "metadata": {},
     "output_type": "display_data"
    },
    {
     "data": {
      "text/plain": [
       "<Figure size 792x792 with 0 Axes>"
      ]
     },
     "metadata": {},
     "output_type": "display_data"
    },
    {
     "data": {
      "text/plain": [
       "<Figure size 792x792 with 0 Axes>"
      ]
     },
     "metadata": {},
     "output_type": "display_data"
    },
    {
     "data": {
      "text/plain": [
       "<Figure size 792x792 with 0 Axes>"
      ]
     },
     "metadata": {},
     "output_type": "display_data"
    },
    {
     "data": {
      "text/plain": [
       "<Figure size 792x792 with 0 Axes>"
      ]
     },
     "metadata": {},
     "output_type": "display_data"
    },
    {
     "data": {
      "text/plain": [
       "<Figure size 792x792 with 0 Axes>"
      ]
     },
     "metadata": {},
     "output_type": "display_data"
    },
    {
     "data": {
      "text/plain": [
       "<Figure size 792x792 with 0 Axes>"
      ]
     },
     "metadata": {},
     "output_type": "display_data"
    },
    {
     "data": {
      "text/plain": [
       "<Figure size 792x792 with 0 Axes>"
      ]
     },
     "metadata": {},
     "output_type": "display_data"
    },
    {
     "data": {
      "text/plain": [
       "<Figure size 792x792 with 0 Axes>"
      ]
     },
     "metadata": {},
     "output_type": "display_data"
    },
    {
     "data": {
      "text/plain": [
       "<Figure size 792x792 with 0 Axes>"
      ]
     },
     "metadata": {},
     "output_type": "display_data"
    },
    {
     "data": {
      "text/plain": [
       "<Figure size 792x792 with 0 Axes>"
      ]
     },
     "metadata": {},
     "output_type": "display_data"
    },
    {
     "data": {
      "text/plain": [
       "<Figure size 792x792 with 0 Axes>"
      ]
     },
     "metadata": {},
     "output_type": "display_data"
    },
    {
     "data": {
      "text/plain": [
       "<Figure size 792x792 with 0 Axes>"
      ]
     },
     "metadata": {},
     "output_type": "display_data"
    },
    {
     "data": {
      "text/plain": [
       "<Figure size 792x792 with 0 Axes>"
      ]
     },
     "metadata": {},
     "output_type": "display_data"
    },
    {
     "data": {
      "text/plain": [
       "<Figure size 792x792 with 0 Axes>"
      ]
     },
     "metadata": {},
     "output_type": "display_data"
    },
    {
     "data": {
      "text/plain": [
       "<Figure size 792x792 with 0 Axes>"
      ]
     },
     "metadata": {},
     "output_type": "display_data"
    },
    {
     "data": {
      "text/plain": [
       "<Figure size 792x792 with 0 Axes>"
      ]
     },
     "metadata": {},
     "output_type": "display_data"
    },
    {
     "data": {
      "text/plain": [
       "<Figure size 792x792 with 0 Axes>"
      ]
     },
     "metadata": {},
     "output_type": "display_data"
    },
    {
     "data": {
      "text/plain": [
       "<Figure size 792x792 with 0 Axes>"
      ]
     },
     "metadata": {},
     "output_type": "display_data"
    },
    {
     "data": {
      "text/plain": [
       "<Figure size 792x792 with 0 Axes>"
      ]
     },
     "metadata": {},
     "output_type": "display_data"
    },
    {
     "data": {
      "text/plain": [
       "<Figure size 792x792 with 0 Axes>"
      ]
     },
     "metadata": {},
     "output_type": "display_data"
    },
    {
     "data": {
      "text/plain": [
       "<Figure size 792x792 with 0 Axes>"
      ]
     },
     "metadata": {},
     "output_type": "display_data"
    },
    {
     "data": {
      "text/plain": [
       "<Figure size 792x792 with 0 Axes>"
      ]
     },
     "metadata": {},
     "output_type": "display_data"
    },
    {
     "data": {
      "text/plain": [
       "<Figure size 792x792 with 0 Axes>"
      ]
     },
     "metadata": {},
     "output_type": "display_data"
    },
    {
     "data": {
      "text/plain": [
       "<Figure size 792x792 with 0 Axes>"
      ]
     },
     "metadata": {},
     "output_type": "display_data"
    },
    {
     "data": {
      "text/plain": [
       "<Figure size 792x792 with 0 Axes>"
      ]
     },
     "metadata": {},
     "output_type": "display_data"
    },
    {
     "data": {
      "text/plain": [
       "<Figure size 792x792 with 0 Axes>"
      ]
     },
     "metadata": {},
     "output_type": "display_data"
    },
    {
     "data": {
      "text/plain": [
       "<Figure size 792x792 with 0 Axes>"
      ]
     },
     "metadata": {},
     "output_type": "display_data"
    },
    {
     "data": {
      "text/plain": [
       "<Figure size 792x792 with 0 Axes>"
      ]
     },
     "metadata": {},
     "output_type": "display_data"
    },
    {
     "data": {
      "text/plain": [
       "<Figure size 792x792 with 0 Axes>"
      ]
     },
     "metadata": {},
     "output_type": "display_data"
    },
    {
     "data": {
      "text/plain": [
       "<Figure size 792x792 with 0 Axes>"
      ]
     },
     "metadata": {},
     "output_type": "display_data"
    },
    {
     "data": {
      "text/plain": [
       "<Figure size 792x792 with 0 Axes>"
      ]
     },
     "metadata": {},
     "output_type": "display_data"
    },
    {
     "data": {
      "text/plain": [
       "<Figure size 792x792 with 0 Axes>"
      ]
     },
     "metadata": {},
     "output_type": "display_data"
    },
    {
     "data": {
      "text/plain": [
       "<Figure size 792x792 with 0 Axes>"
      ]
     },
     "metadata": {},
     "output_type": "display_data"
    },
    {
     "data": {
      "text/plain": [
       "<Figure size 792x792 with 0 Axes>"
      ]
     },
     "metadata": {},
     "output_type": "display_data"
    },
    {
     "data": {
      "text/plain": [
       "<Figure size 792x792 with 0 Axes>"
      ]
     },
     "metadata": {},
     "output_type": "display_data"
    },
    {
     "data": {
      "text/plain": [
       "<Figure size 792x792 with 0 Axes>"
      ]
     },
     "metadata": {},
     "output_type": "display_data"
    },
    {
     "data": {
      "text/plain": [
       "<Figure size 792x792 with 0 Axes>"
      ]
     },
     "metadata": {},
     "output_type": "display_data"
    },
    {
     "data": {
      "text/plain": [
       "<Figure size 792x792 with 0 Axes>"
      ]
     },
     "metadata": {},
     "output_type": "display_data"
    },
    {
     "data": {
      "text/plain": [
       "<Figure size 792x792 with 0 Axes>"
      ]
     },
     "metadata": {},
     "output_type": "display_data"
    },
    {
     "data": {
      "text/plain": [
       "<Figure size 792x792 with 0 Axes>"
      ]
     },
     "metadata": {},
     "output_type": "display_data"
    },
    {
     "data": {
      "text/plain": [
       "<Figure size 792x792 with 0 Axes>"
      ]
     },
     "metadata": {},
     "output_type": "display_data"
    },
    {
     "data": {
      "text/plain": [
       "<Figure size 792x792 with 0 Axes>"
      ]
     },
     "metadata": {},
     "output_type": "display_data"
    },
    {
     "data": {
      "text/plain": [
       "<Figure size 792x792 with 0 Axes>"
      ]
     },
     "metadata": {},
     "output_type": "display_data"
    },
    {
     "data": {
      "text/plain": [
       "<Figure size 792x792 with 0 Axes>"
      ]
     },
     "metadata": {},
     "output_type": "display_data"
    },
    {
     "data": {
      "text/plain": [
       "<Figure size 792x792 with 0 Axes>"
      ]
     },
     "metadata": {},
     "output_type": "display_data"
    },
    {
     "data": {
      "text/plain": [
       "<Figure size 792x792 with 0 Axes>"
      ]
     },
     "metadata": {},
     "output_type": "display_data"
    },
    {
     "data": {
      "text/plain": [
       "<Figure size 792x792 with 0 Axes>"
      ]
     },
     "metadata": {},
     "output_type": "display_data"
    },
    {
     "data": {
      "text/plain": [
       "<Figure size 792x792 with 0 Axes>"
      ]
     },
     "metadata": {},
     "output_type": "display_data"
    },
    {
     "data": {
      "text/plain": [
       "<Figure size 792x792 with 0 Axes>"
      ]
     },
     "metadata": {},
     "output_type": "display_data"
    },
    {
     "data": {
      "text/plain": [
       "<Figure size 792x792 with 0 Axes>"
      ]
     },
     "metadata": {},
     "output_type": "display_data"
    },
    {
     "data": {
      "text/plain": [
       "<Figure size 792x792 with 0 Axes>"
      ]
     },
     "metadata": {},
     "output_type": "display_data"
    },
    {
     "data": {
      "text/plain": [
       "<Figure size 792x792 with 0 Axes>"
      ]
     },
     "metadata": {},
     "output_type": "display_data"
    },
    {
     "data": {
      "text/plain": [
       "<Figure size 792x792 with 0 Axes>"
      ]
     },
     "metadata": {},
     "output_type": "display_data"
    },
    {
     "data": {
      "text/plain": [
       "<Figure size 792x792 with 0 Axes>"
      ]
     },
     "metadata": {},
     "output_type": "display_data"
    },
    {
     "data": {
      "text/plain": [
       "<Figure size 792x792 with 0 Axes>"
      ]
     },
     "metadata": {},
     "output_type": "display_data"
    },
    {
     "data": {
      "text/plain": [
       "<Figure size 792x792 with 0 Axes>"
      ]
     },
     "metadata": {},
     "output_type": "display_data"
    },
    {
     "data": {
      "text/plain": [
       "<Figure size 792x792 with 0 Axes>"
      ]
     },
     "metadata": {},
     "output_type": "display_data"
    },
    {
     "data": {
      "text/plain": [
       "<Figure size 792x792 with 0 Axes>"
      ]
     },
     "metadata": {},
     "output_type": "display_data"
    },
    {
     "data": {
      "text/plain": [
       "<Figure size 792x792 with 0 Axes>"
      ]
     },
     "metadata": {},
     "output_type": "display_data"
    },
    {
     "data": {
      "text/plain": [
       "<Figure size 792x792 with 0 Axes>"
      ]
     },
     "metadata": {},
     "output_type": "display_data"
    },
    {
     "data": {
      "text/plain": [
       "<Figure size 792x792 with 0 Axes>"
      ]
     },
     "metadata": {},
     "output_type": "display_data"
    },
    {
     "data": {
      "text/plain": [
       "<Figure size 792x792 with 0 Axes>"
      ]
     },
     "metadata": {},
     "output_type": "display_data"
    },
    {
     "data": {
      "text/plain": [
       "<Figure size 792x792 with 0 Axes>"
      ]
     },
     "metadata": {},
     "output_type": "display_data"
    },
    {
     "data": {
      "text/plain": [
       "<Figure size 792x792 with 0 Axes>"
      ]
     },
     "metadata": {},
     "output_type": "display_data"
    },
    {
     "data": {
      "text/plain": [
       "<Figure size 792x792 with 0 Axes>"
      ]
     },
     "metadata": {},
     "output_type": "display_data"
    },
    {
     "data": {
      "text/plain": [
       "<Figure size 792x792 with 0 Axes>"
      ]
     },
     "metadata": {},
     "output_type": "display_data"
    },
    {
     "data": {
      "text/plain": [
       "<Figure size 792x792 with 0 Axes>"
      ]
     },
     "metadata": {},
     "output_type": "display_data"
    },
    {
     "data": {
      "text/plain": [
       "<Figure size 792x792 with 0 Axes>"
      ]
     },
     "metadata": {},
     "output_type": "display_data"
    },
    {
     "data": {
      "text/plain": [
       "<Figure size 792x792 with 0 Axes>"
      ]
     },
     "metadata": {},
     "output_type": "display_data"
    },
    {
     "data": {
      "text/plain": [
       "<Figure size 792x792 with 0 Axes>"
      ]
     },
     "metadata": {},
     "output_type": "display_data"
    },
    {
     "data": {
      "text/plain": [
       "<Figure size 792x792 with 0 Axes>"
      ]
     },
     "metadata": {},
     "output_type": "display_data"
    },
    {
     "data": {
      "text/plain": [
       "<Figure size 792x792 with 0 Axes>"
      ]
     },
     "metadata": {},
     "output_type": "display_data"
    },
    {
     "data": {
      "text/plain": [
       "<Figure size 792x792 with 0 Axes>"
      ]
     },
     "metadata": {},
     "output_type": "display_data"
    },
    {
     "data": {
      "text/plain": [
       "<Figure size 792x792 with 0 Axes>"
      ]
     },
     "metadata": {},
     "output_type": "display_data"
    },
    {
     "data": {
      "text/plain": [
       "<Figure size 792x792 with 0 Axes>"
      ]
     },
     "metadata": {},
     "output_type": "display_data"
    },
    {
     "data": {
      "text/plain": [
       "<Figure size 792x792 with 0 Axes>"
      ]
     },
     "metadata": {},
     "output_type": "display_data"
    },
    {
     "data": {
      "text/plain": [
       "<Figure size 792x792 with 0 Axes>"
      ]
     },
     "metadata": {},
     "output_type": "display_data"
    },
    {
     "data": {
      "text/plain": [
       "<Figure size 792x792 with 0 Axes>"
      ]
     },
     "metadata": {},
     "output_type": "display_data"
    },
    {
     "data": {
      "text/plain": [
       "<Figure size 792x792 with 0 Axes>"
      ]
     },
     "metadata": {},
     "output_type": "display_data"
    },
    {
     "data": {
      "text/plain": [
       "<Figure size 792x792 with 0 Axes>"
      ]
     },
     "metadata": {},
     "output_type": "display_data"
    },
    {
     "data": {
      "text/plain": [
       "<Figure size 792x792 with 0 Axes>"
      ]
     },
     "metadata": {},
     "output_type": "display_data"
    },
    {
     "data": {
      "text/plain": [
       "<Figure size 792x792 with 0 Axes>"
      ]
     },
     "metadata": {},
     "output_type": "display_data"
    },
    {
     "data": {
      "text/plain": [
       "<Figure size 792x792 with 0 Axes>"
      ]
     },
     "metadata": {},
     "output_type": "display_data"
    },
    {
     "data": {
      "text/plain": [
       "<Figure size 792x792 with 0 Axes>"
      ]
     },
     "metadata": {},
     "output_type": "display_data"
    },
    {
     "data": {
      "text/plain": [
       "<Figure size 792x792 with 0 Axes>"
      ]
     },
     "metadata": {},
     "output_type": "display_data"
    },
    {
     "data": {
      "text/plain": [
       "<Figure size 792x792 with 0 Axes>"
      ]
     },
     "metadata": {},
     "output_type": "display_data"
    },
    {
     "data": {
      "text/plain": [
       "<Figure size 792x792 with 0 Axes>"
      ]
     },
     "metadata": {},
     "output_type": "display_data"
    },
    {
     "data": {
      "text/plain": [
       "<Figure size 792x792 with 0 Axes>"
      ]
     },
     "metadata": {},
     "output_type": "display_data"
    },
    {
     "data": {
      "text/plain": [
       "<Figure size 792x792 with 0 Axes>"
      ]
     },
     "metadata": {},
     "output_type": "display_data"
    },
    {
     "data": {
      "text/plain": [
       "<Figure size 792x792 with 0 Axes>"
      ]
     },
     "metadata": {},
     "output_type": "display_data"
    },
    {
     "data": {
      "text/plain": [
       "<Figure size 792x792 with 0 Axes>"
      ]
     },
     "metadata": {},
     "output_type": "display_data"
    },
    {
     "data": {
      "text/plain": [
       "<Figure size 792x792 with 0 Axes>"
      ]
     },
     "metadata": {},
     "output_type": "display_data"
    },
    {
     "data": {
      "text/plain": [
       "<Figure size 792x792 with 0 Axes>"
      ]
     },
     "metadata": {},
     "output_type": "display_data"
    },
    {
     "data": {
      "text/plain": [
       "<Figure size 792x792 with 0 Axes>"
      ]
     },
     "metadata": {},
     "output_type": "display_data"
    },
    {
     "data": {
      "text/plain": [
       "<Figure size 792x792 with 0 Axes>"
      ]
     },
     "metadata": {},
     "output_type": "display_data"
    },
    {
     "data": {
      "text/plain": [
       "<Figure size 792x792 with 0 Axes>"
      ]
     },
     "metadata": {},
     "output_type": "display_data"
    },
    {
     "data": {
      "text/plain": [
       "<Figure size 792x792 with 0 Axes>"
      ]
     },
     "metadata": {},
     "output_type": "display_data"
    },
    {
     "data": {
      "text/plain": [
       "<Figure size 792x792 with 0 Axes>"
      ]
     },
     "metadata": {},
     "output_type": "display_data"
    },
    {
     "data": {
      "text/plain": [
       "<Figure size 792x792 with 0 Axes>"
      ]
     },
     "metadata": {},
     "output_type": "display_data"
    },
    {
     "data": {
      "text/plain": [
       "<Figure size 792x792 with 0 Axes>"
      ]
     },
     "metadata": {},
     "output_type": "display_data"
    },
    {
     "data": {
      "text/plain": [
       "<Figure size 792x792 with 0 Axes>"
      ]
     },
     "metadata": {},
     "output_type": "display_data"
    },
    {
     "data": {
      "text/plain": [
       "<Figure size 792x792 with 0 Axes>"
      ]
     },
     "metadata": {},
     "output_type": "display_data"
    },
    {
     "data": {
      "text/plain": [
       "<Figure size 792x792 with 0 Axes>"
      ]
     },
     "metadata": {},
     "output_type": "display_data"
    },
    {
     "data": {
      "text/plain": [
       "<Figure size 792x792 with 0 Axes>"
      ]
     },
     "metadata": {},
     "output_type": "display_data"
    },
    {
     "data": {
      "text/plain": [
       "<Figure size 792x792 with 0 Axes>"
      ]
     },
     "metadata": {},
     "output_type": "display_data"
    },
    {
     "data": {
      "text/plain": [
       "<Figure size 792x792 with 0 Axes>"
      ]
     },
     "metadata": {},
     "output_type": "display_data"
    },
    {
     "data": {
      "text/plain": [
       "<Figure size 792x792 with 0 Axes>"
      ]
     },
     "metadata": {},
     "output_type": "display_data"
    },
    {
     "data": {
      "text/plain": [
       "<Figure size 792x792 with 0 Axes>"
      ]
     },
     "metadata": {},
     "output_type": "display_data"
    },
    {
     "data": {
      "text/plain": [
       "<Figure size 792x792 with 0 Axes>"
      ]
     },
     "metadata": {},
     "output_type": "display_data"
    },
    {
     "data": {
      "text/plain": [
       "<Figure size 792x792 with 0 Axes>"
      ]
     },
     "metadata": {},
     "output_type": "display_data"
    },
    {
     "data": {
      "text/plain": [
       "<Figure size 792x792 with 0 Axes>"
      ]
     },
     "metadata": {},
     "output_type": "display_data"
    },
    {
     "data": {
      "text/plain": [
       "<Figure size 792x792 with 0 Axes>"
      ]
     },
     "metadata": {},
     "output_type": "display_data"
    },
    {
     "data": {
      "text/plain": [
       "<Figure size 792x792 with 0 Axes>"
      ]
     },
     "metadata": {},
     "output_type": "display_data"
    },
    {
     "data": {
      "text/plain": [
       "<Figure size 792x792 with 0 Axes>"
      ]
     },
     "metadata": {},
     "output_type": "display_data"
    },
    {
     "data": {
      "text/plain": [
       "<Figure size 792x792 with 0 Axes>"
      ]
     },
     "metadata": {},
     "output_type": "display_data"
    },
    {
     "data": {
      "text/plain": [
       "<Figure size 792x792 with 0 Axes>"
      ]
     },
     "metadata": {},
     "output_type": "display_data"
    },
    {
     "data": {
      "text/plain": [
       "<Figure size 792x792 with 0 Axes>"
      ]
     },
     "metadata": {},
     "output_type": "display_data"
    },
    {
     "data": {
      "text/plain": [
       "<Figure size 792x792 with 0 Axes>"
      ]
     },
     "metadata": {},
     "output_type": "display_data"
    },
    {
     "data": {
      "text/plain": [
       "<Figure size 792x792 with 0 Axes>"
      ]
     },
     "metadata": {},
     "output_type": "display_data"
    },
    {
     "data": {
      "text/plain": [
       "<Figure size 792x792 with 0 Axes>"
      ]
     },
     "metadata": {},
     "output_type": "display_data"
    },
    {
     "data": {
      "text/plain": [
       "<Figure size 792x792 with 0 Axes>"
      ]
     },
     "metadata": {},
     "output_type": "display_data"
    },
    {
     "data": {
      "text/plain": [
       "<Figure size 792x792 with 0 Axes>"
      ]
     },
     "metadata": {},
     "output_type": "display_data"
    },
    {
     "data": {
      "text/plain": [
       "<Figure size 792x792 with 0 Axes>"
      ]
     },
     "metadata": {},
     "output_type": "display_data"
    },
    {
     "data": {
      "text/plain": [
       "<Figure size 792x792 with 0 Axes>"
      ]
     },
     "metadata": {},
     "output_type": "display_data"
    },
    {
     "data": {
      "text/plain": [
       "<Figure size 792x792 with 0 Axes>"
      ]
     },
     "metadata": {},
     "output_type": "display_data"
    },
    {
     "data": {
      "text/plain": [
       "<Figure size 792x792 with 0 Axes>"
      ]
     },
     "metadata": {},
     "output_type": "display_data"
    },
    {
     "data": {
      "text/plain": [
       "<Figure size 792x792 with 0 Axes>"
      ]
     },
     "metadata": {},
     "output_type": "display_data"
    },
    {
     "data": {
      "text/plain": [
       "<Figure size 792x792 with 0 Axes>"
      ]
     },
     "metadata": {},
     "output_type": "display_data"
    },
    {
     "data": {
      "text/plain": [
       "<Figure size 792x792 with 0 Axes>"
      ]
     },
     "metadata": {},
     "output_type": "display_data"
    },
    {
     "data": {
      "text/plain": [
       "<Figure size 792x792 with 0 Axes>"
      ]
     },
     "metadata": {},
     "output_type": "display_data"
    },
    {
     "data": {
      "text/plain": [
       "<Figure size 792x792 with 0 Axes>"
      ]
     },
     "metadata": {},
     "output_type": "display_data"
    },
    {
     "data": {
      "text/plain": [
       "<Figure size 792x792 with 0 Axes>"
      ]
     },
     "metadata": {},
     "output_type": "display_data"
    },
    {
     "data": {
      "text/plain": [
       "<Figure size 792x792 with 0 Axes>"
      ]
     },
     "metadata": {},
     "output_type": "display_data"
    },
    {
     "data": {
      "text/plain": [
       "<Figure size 792x792 with 0 Axes>"
      ]
     },
     "metadata": {},
     "output_type": "display_data"
    },
    {
     "data": {
      "text/plain": [
       "<Figure size 792x792 with 0 Axes>"
      ]
     },
     "metadata": {},
     "output_type": "display_data"
    },
    {
     "data": {
      "text/plain": [
       "<Figure size 792x792 with 0 Axes>"
      ]
     },
     "metadata": {},
     "output_type": "display_data"
    },
    {
     "data": {
      "image/png": "[encoded data removed]",
      "text/plain": [
       "<Figure size 792x792 with 1 Axes>"
      ]
     },
     "metadata": {
      "needs_background": "light"
     },
     "output_type": "display_data"
    }
   ],
   "source": [
    "fig=200\n",
    "accuracy_hist=[]\n",
    "start=time.time()\n",
    "for N in range(fig):\n",
    "    \n",
    "    alpha=random.uniform(0.785398,0.959931) #The angle made by the generated line(between 20 and 70 degrees)\n",
    "   # print(\"Angle of track:\",((180/pi)*alpha))\n",
    "    SNR=2\n",
    "    sigma=0.5\n",
    "    \n",
    "    w0=random.randint(freq_min,15)\n",
    "    t0=random.randint(t_min,15)\n",
    "        \n",
    "    image=mpimg.imread(r\"\\Users\\Kaustav Dutta\\Desktop\\white_100.png\",)\n",
    "    pixel=get_image(image,w0,t0,alpha)#to get the track without any noise\n",
    "    \n",
    "    pixel_gray=get_gray(pixel)#to get the grayscale of the track image\n",
    "    \n",
    "    th_true=np.mean(pixel)+2*np.std(pixel)\n",
    "    \n",
    "    binary_gray=get_binary_gray(pixel_gray,th_true)#to get the true track pixels\n",
    "   \n",
    "    #print(\"Threshold for True Binary Spectrogram:\",th_true)\n",
    "    \n",
    "    pixel_new=get_pixel_new(pixel_gray)#to introduce gaussian noise into the image\n",
    "    \n",
    "    th_noisy=np.mean(pixel_new)+2*np.std(pixel_new)\n",
    "    \n",
    "    pixel_new_binary=get_noisy_binary_img(pixel_new,th_noisy)\n",
    "    \n",
    "    #print(\"Threshold for Noisy Binary Spectrogram:\",th_noisy)\n",
    "    \n",
    "    hough_space,points_x,points_y=get_hough_space(pixel_new,pixel_new_binary)#hough space generator\n",
    "    \n",
    "    max_points=int(math.hypot(pixel.shape[0],pixel.shape[1]))\n",
    "    \n",
    "    hough_space_binary,index_continuous,points_x,points_y=get_hough_space_binary(hough_space,points_x,points_y)\n",
    "    \n",
    "    reverse_hough=get_reverse_hough(pixel,hough_space,hough_space_binary,points_x,points_y,index_continuous)\n",
    "    \n",
    "    plt.figure(figsize=(11,11))\n",
    " #   plt.subplot(331), plt.imshow(pixel,origin='lower'),plt.title('Generated track')\n",
    "  #  plt.subplot(131),plt.imshow(binary_gray,origin='lower'),plt.title('True Binary Image')\n",
    " #   plt.subplot(333), plt.imshow(pixel_new,origin='lower'),plt.title('Noisy Image')\n",
    " #   plt.subplot(132),plt.imshow(pixel_new_binary,origin='lower'),plt.title('Noisy Binary Image')\n",
    " #   plt.subplot(335), plt.imshow(hough_space,origin='lower'),plt.title('Hough Space'),plt.xlabel('Theta(in degrees)'),plt.ylabel('r')\n",
    " #   plt.subplot(336), plt.imshow(hough_space_binary,origin='lower'),plt.title('Binary Hough Space'),plt.xlabel('Theta(in degrees)'),plt.ylabel('r')\n",
    " #   plt.subplot(133),plt.imshow(reverse_hough,origin='lower'),plt.title('Reverse Local Hough Tranformation')\n",
    " #   plt.show()\n",
    "    \n",
    "   # if N==0:\n",
    "    #    TPR_avg=np.zeros(shape=(max_points))\n",
    "     #   FPR_avg=np.zeros(shape=(max_points))\n",
    "    \n",
    "    accuracy=get_accuracy(binary_gray,reverse_hough)\n",
    "    accuracy_hist.append(accuracy)\n",
    "    #print(\"accuracy:\",accuracy)\n",
    "    \n",
    "  #  TPR,FPR=get_positive_rates(binary_gray,reverse_hough,hough_space,points_x,points_y)\n",
    "  #  for k in range(max_points):\n",
    "  #      TPR_avg[k]=TPR_avg[k]+TPR[k]\n",
    "  #      FPR_avg[k]=FPR_avg[k]+FPR[k]\n",
    "    \n",
    "  #  print_ROC(TPR,FPR)\n",
    "    \n",
    "#for k in range(max_points):\n",
    "#    TPR_avg[k]=TPR_avg[k]/fig\n",
    "#    FPR_avg[k]=FPR_avg[k]/fig\n",
    "       \n",
    "#print_ROC_avg(TPR_avg,FPR_avg)\n",
    "end=time.time()\n",
    "#print(\"-----------------------\") \n",
    "print(end-start)\n",
    "#print(\"-----------------------\")\n",
    "\n",
    "get_accuracy_hist(accuracy_hist,fig)"
   ]
  },
  {
   "cell_type": "markdown",
   "metadata": {},
   "source": [
    "Each time bin corresponds to an actual time difference of 0.0002 seconds. \n",
    "\n",
    "Each frequency bin corresponds to an actual frequency of 3 MHz."
   ]
  },
  {
   "cell_type": "code",
   "execution_count": 70,
   "metadata": {},
   "outputs": [],
   "source": [
    "def get_image(image,w0,t0,angle):\n",
    "    start=time.time()\n",
    "    t_prev=t0\n",
    "    freq_prev=w0\n",
    "    \n",
    "    while(True):\n",
    "        scatter_time=math.floor(t_prev+np.random.exponential(mean_life))  #Scattering times follow an exponential distribution\n",
    "       # scatter_time=random.randint(t_prev+mean_life,t_prev+3*mean_life) \n",
    "        scatter_freq=round(((scatter_time-t_prev)/tan(angle))+freq_prev)\n",
    "        if((scatter_time>=t_max)or(scatter_freq>=freq_max)):\n",
    "            break\n",
    "            \n",
    "        ybar=freq_prev\n",
    "        xbar=t_prev\n",
    "    \n",
    "        for i in range(t_prev,scatter_time):\n",
    "            for j in range(freq_prev,scatter_freq):\n",
    "                intensity=SNR*exp(-((((j-ybar))*sin(alpha))-(((i-xbar))*cos(alpha)))**2/(2*(sigma)**2))\n",
    "                image[j,i]=(intensity,intensity,0)\n",
    "                \n",
    "        t_prev=scatter_time+1\n",
    "        freq_prev=int(scatter_freq+get_energy_loss())\n",
    "        \n",
    "    for i in range(image.shape[0]):\n",
    "        for j in range(image.shape[1]):\n",
    "            if (image[i,j][0]==image[i,j][1]==image[i,j][2]==1):\n",
    "                image[i,j]=(0,0,0)\n",
    "    end=time.time()\n",
    "    #print(\"Time:get_image()\",end-start)\n",
    "    return image"
   ]
  },
  {
   "cell_type": "code",
   "execution_count": 67,
   "metadata": {},
   "outputs": [],
   "source": [
    "def get_energy_loss():\n",
    "    u=np.random.uniform(0,1)\n",
    "    if(u<=0.48):\n",
    "        gen_loss=np.random.normal(12.6,0.925)\n",
    "    else:\n",
    "        while(True):\n",
    "            gen_loss=stats.cauchy.rvs(14.1,6.25)\n",
    "            if(gen_loss>=14.1):break\n",
    "    return(gen_loss)"
   ]
  },
  {
   "cell_type": "code",
   "execution_count": 71,
   "metadata": {},
   "outputs": [],
   "source": [
    "def get_gray(pixel):\n",
    "    start=time.time()\n",
    "    pixel_gray=np.dot(pixel,[1,1,1])\n",
    "    end=time.time()\n",
    "   # print(\"Time:get_gray()\",end-start)\n",
    "    return pixel_gray"
   ]
  },
  {
   "cell_type": "code",
   "execution_count": 72,
   "metadata": {},
   "outputs": [],
   "source": [
    "def get_binary_gray(pixel_gray,th_true):\n",
    "    start=time.time()\n",
    "    binary_gray=np.zeros(shape=(pixel_gray.shape[0],pixel_gray.shape[1]))\n",
    "    for i in range(pixel_gray.shape[0]):\n",
    "        for j in range(pixel_gray.shape[1]):\n",
    "            binary_gray[i,j]=0 if (pixel_gray[i,j]<(th_true*np.max(pixel_gray))) else 1\n",
    "    end=time.time()\n",
    "   # print(\"Time:get_binary_gray\",end-start)\n",
    "    return binary_gray"
   ]
  },
  {
   "cell_type": "code",
   "execution_count": 73,
   "metadata": {},
   "outputs": [],
   "source": [
    "def get_pixel_new(pixel_gray):\n",
    "    start=time.time()\n",
    "    noise=np.random.exponential(1.0,pixel_gray.shape)    \n",
    "    pixel_new = SNR*pixel_gray+noise\n",
    "    end=time.time()\n",
    "   # print(\"Time:get_pixel_gray()\",end-start)\n",
    "    return pixel_new"
   ]
  },
  {
   "cell_type": "code",
   "execution_count": 74,
   "metadata": {},
   "outputs": [],
   "source": [
    "def get_noisy_binary_img(pixel_new,th_noisy):\n",
    "    start=time.time()\n",
    "    noisy_binary_img=np.zeros(shape=(pixel_new.shape[0],pixel_new.shape[1]))\n",
    "    for i in range(0,pixel_new.shape[0]):\n",
    "        for j in range(0,pixel_new.shape[1]):\n",
    "            noisy_binary_img[i,j]=0 if (pixel_new[i,j]<th_noisy) else 1\n",
    "            \n",
    "    end=time.time()\n",
    "   # print(\"Time:get_noisy_binary_img()\",end-start)\n",
    "    return noisy_binary_img"
   ]
  },
  {
   "cell_type": "code",
   "execution_count": 75,
   "metadata": {},
   "outputs": [],
   "source": [
    "def get_hough_space(pixel_new,pixel_new_binary):\n",
    "\n",
    "    x_max = pixel_new.shape[0]\n",
    "    y_max = pixel_new.shape[1]\n",
    "    size=10\n",
    "    centre_x=int(size/2)\n",
    "    centre_y=int(size/2)\n",
    "\n",
    "    theta_max = 1.0 *pi\n",
    "    theta_min = 0.0\n",
    "\n",
    "    r_min = 0.0\n",
    "    r_max = math.hypot(pixel_new.shape[0],pixel_new.shape[1])\n",
    "\n",
    "    r_dim = 200\n",
    "    theta_dim = 180\n",
    "\n",
    "    count_coord=300\n",
    "    points_x=np.zeros(shape=(r_dim,theta_dim,count_coord),dtype='int')\n",
    "    points_y=np.zeros(shape=(r_dim,theta_dim,count_coord),dtype='int')\n",
    "    hough_space = np.zeros(shape=(r_dim,theta_dim),dtype='int')\n",
    "    \n",
    "    sum_pixel=0\n",
    "    th_local=np.mean(pixel_new_binary)\n",
    "    for x in range(centre_x,x_max-int(size/2),size):   #The two outer loops control the scanning box\n",
    "        for y in range(centre_y,y_max-int(size/2),size):\n",
    "            sum_pixel=0\n",
    "            for i in range(x-int(size/2),x+int(size/2)):  #These loops scan through the box and find the sum of pixel intensities within the box\n",
    "                for j in range(y-int(size/2),y+int(size/2)):\n",
    "                    sum_pixel=sum_pixel+pixel_new_binary[i,j]\n",
    "                    \n",
    "            if(sum_pixel/(size)**2)>=th_local:      \n",
    "                for i in range(x-int(size/2),x+int(size/2)):\n",
    "                    for j in range(y-int(size/2),y+int(size/2)): \n",
    "                        if(pixel_new_binary[i,j]==1):\n",
    "                            for itheta in range(theta_dim):\n",
    "                                theta =(1.0*itheta*theta_max)/theta_dim\n",
    "                                r = i*cos(theta)+j*sin(theta)\n",
    "                                ir = int((r-r_min)/(r_max-r_min) * r_dim)\n",
    "                                #print(ir)\n",
    "                                points_x[ir,itheta,hough_space[ir,itheta]]=i\n",
    "                                points_y[ir,itheta,hough_space[ir,itheta]]=j        \n",
    "                                hough_space[ir,itheta] = hough_space[ir,itheta] + 1\n",
    "                          \n",
    "    return hough_space,points_x,points_y"
   ]
  },
  {
   "cell_type": "code",
   "execution_count": 76,
   "metadata": {},
   "outputs": [],
   "source": [
    "def get_hough_space_binary(hough_space,points_x,points_y):\n",
    "    start=time.time()\n",
    "    r_dim = 200 \n",
    "    theta_dim = 180\n",
    "    \n",
    "    hough_space_binary= np.zeros(shape=(r_dim,theta_dim),dtype='int')\n",
    "    index_continuous= np.zeros(shape=(r_dim,theta_dim,2),dtype='int')\n",
    "    for i in range(hough_space.shape[0]):\n",
    "        for j in range(hough_space.shape[1]):\n",
    "            label_min_x=0\n",
    "            label_max_x=0\n",
    "            label_min_y=0\n",
    "            label_max_y=0\n",
    "            if(hough_space[i,j]>=12):\n",
    "                points_x[i,j].sort()\n",
    "                start=0\n",
    "                while(points_x[i,j,start]==0):\n",
    "                    start=start+1\n",
    "                    \n",
    "                label_min_x=start\n",
    "                label_max_x=start+1 \n",
    "                index_lower_x=label_min_x\n",
    "                index_upper_x=label_max_x\n",
    "                while(index_upper_x<300):\n",
    "                    if((points_x[i,j])[index_upper_x]-(points_x[i,j])[index_upper_x-1]==0 or (points_x[i,j])[index_upper_x]-(points_x[i,j])[index_upper_x-1]==1):\n",
    "                        if((index_upper_x==299)and(index_upper_x-index_lower_x-1>label_max_x-label_min_x)):\n",
    "                            label_max_x=index_upper_x\n",
    "                            label_min_x=index_lower_x\n",
    "                            break\n",
    "                        index_upper_x=index_upper_x+1\n",
    "                        continue\n",
    "                    \n",
    "                    if(index_upper_x-(index_lower_x+1)>label_max_x-label_min_x):\n",
    "                        label_min_x=index_lower_x\n",
    "                        label_max_x=index_upper_x-1\n",
    "                    index_lower_x=index_lower_x+1\n",
    "                    index_upper_x=index_lower_x+1\n",
    "                    \n",
    "                    \n",
    "                points_y[i,j].sort()\n",
    "                start=0\n",
    "                while(points_y[i,j,start]==0):\n",
    "                    start=start+1\n",
    "                    \n",
    "                label_min_y=start\n",
    "                label_max_y=start+1 \n",
    "                index_lower_y=label_min_y\n",
    "                index_upper_y=label_max_y\n",
    "                while(index_upper_y<300):\n",
    "                    if((points_y[i,j])[index_upper_y]-(points_y[i,j])[index_upper_y-1]==0 or (points_y[i,j])[index_upper_y]-(points_y[i,j])[index_upper_y-1]==1 or (points_y[i,j])[index_upper_y]-(points_y[i,j])[index_upper_y-1]==1):\n",
    "                        index_upper_y=index_upper_y+1\n",
    "                        if((index_upper_y==299)and(index_upper_y-index_lower_y-1>label_max_y-label_min_y)):\n",
    "                            label_max_y=index_upper_y\n",
    "                            label_min_y=index_lower_y\n",
    "                            break\n",
    "                        continue\n",
    "                    \n",
    "                    if(index_upper_y-(index_lower_y+1)>label_max_y-label_min_y):\n",
    "                        label_min_y=index_lower_y\n",
    "                        label_max_y=index_upper_y-1\n",
    "                    index_lower_y=index_lower_y+1\n",
    "                    index_upper_y=index_lower_y+1\n",
    "                    \n",
    "                \n",
    "            if(label_max_x-label_min_x>=3 and label_max_y-label_min_y>=2 and label_max_y-label_min_y<=label_max_x-label_min_x+2):                   \n",
    "                hough_space_binary[i,j]=1\n",
    "                index_continuous[i,j,0]=label_min_x\n",
    "                index_continuous[i,j,1]=label_max_x+1\n",
    "            else:\n",
    "                hough_space_binary[i,j]=0\n",
    "    end=time.time()\n",
    "  #print(\"Time:get_hough_space()\",end-start)\n",
    "    return hough_space_binary,index_continuous,points_x,points_y"
   ]
  },
  {
   "cell_type": "code",
   "execution_count": 77,
   "metadata": {},
   "outputs": [],
   "source": [
    "def get_reverse_hough(pixel,hough_space,hough_space_binary,points_x,points_y,index_continuous):\n",
    "    reverse_hough=np.zeros(shape=(pixel.shape[0],pixel.shape[1]))\n",
    "    for r in range(hough_space.shape[0]):\n",
    "        for theta in range(hough_space.shape[1]):\n",
    "            if(hough_space_binary[r,theta]==1):\n",
    "                for l in range(index_continuous[r,theta,0],index_continuous[r,theta,1]):\n",
    "                    reverse_hough[points_x[r,theta,l],points_y[r,theta,l]]=1\n",
    "    return(reverse_hough)"
   ]
  },
  {
   "cell_type": "code",
   "execution_count": 78,
   "metadata": {},
   "outputs": [],
   "source": [
    "def get_positive_rates(binary_gray,reverse_hough,hough_space,points_x,points_y):\n",
    "    start=time.time()\n",
    "    TPR=np.zeros(shape=(max_points))\n",
    "    FPR=np.zeros(shape=(max_points))\n",
    "    \n",
    "    y_true=np.zeros(shape=(binary_gray.shape[0],binary_gray.shape[1]))\n",
    "    for k in range(binary_gray.shape[0]):\n",
    "        for l in range(binary_gray.shape[1]):\n",
    "            y_true[k,l]=binary_gray[k,l]\n",
    "    y_true=y_true.flatten()\n",
    "    \n",
    "    r_dim = 200 \n",
    "    theta_dim = 180\n",
    "    \n",
    "    for thresh in range(0,np.max(hough_space)):   \n",
    "        TP=FP=TN=FN=0  \n",
    "        y_pred=np.zeros(shape=(binary_gray.shape[0],binary_gray.shape[1]))\n",
    "        \n",
    "        if thresh==0:\n",
    "            y_pred=1\n",
    "            \n",
    "        else:\n",
    "            for i in range(hough_space.shape[0]):\n",
    "                for j in range(hough_space.shape[1]):\n",
    "                    if (hough_space[i,j]>=thresh):            \n",
    "                        for l in range(hough_space[i,j]):\n",
    "                            y_pred[points_x[i,j,l],points_y[i,j,l]]=1\n",
    "                    \n",
    "        y_pred=y_pred.flatten()\n",
    "  \n",
    "        for k in range(binary_gray.shape[0]*binary_gray.shape[1]):\n",
    "            if(y_true[k]==1 and y_pred[k]==1):\n",
    "                TP=TP+1\n",
    "                    \n",
    "            elif(y_true[k]==1 and y_pred[k]==0):\n",
    "                FN=FN+1\n",
    "                        \n",
    "            elif(y_true[k]==0 and y_pred[k]==0):\n",
    "                TN=TN+1\n",
    "               \n",
    "            elif(y_true[k]==0 and y_pred[k]==1):\n",
    "                FP=FP+1 \n",
    "        \n",
    "        TPR[thresh]=TP/(TP+FN)\n",
    "        FPR[thresh]=FP/(FP+TN)\n",
    "    \n",
    "    end=time.time()\n",
    "    #print(\"Time:get_positive_rates()\",end-start)\n",
    "    return TPR,FPR"
   ]
  },
  {
   "cell_type": "code",
   "execution_count": 79,
   "metadata": {},
   "outputs": [],
   "source": [
    "def get_accuracy(binary_true,reverse_hough):\n",
    "    accuracy=np.zeros(shape=(binary_true.shape[0],binary_true.shape[1]))\n",
    "    for i in range(binary_true.shape[0]):\n",
    "        for j in range(binary_true.shape[1]):\n",
    "            if(binary_true[i,j]==reverse_hough[i,j]):\n",
    "                accuracy[i,j]=1\n",
    "    accuracy_percentage=np.sum(accuracy)/(binary_true.shape[0]*binary_true.shape[1])            \n",
    "    \n",
    "    return accuracy_percentage"
   ]
  },
  {
   "cell_type": "code",
   "execution_count": 103,
   "metadata": {},
   "outputs": [],
   "source": [
    "def get_accuracy_hist(accuracy_hist,N):\n",
    "    x=np.arange(1,N+1)\n",
    "    plt.hist(accuracy_hist,N)\n",
    "   # plt.plot(x,accuracy_hist)\n",
    "    #plt.ylim([0.95,1.00])\n",
    "    plt.xlabel('Accuracy')\n",
    "    plt.ylabel('Cases') \n",
    "    plt.show()"
   ]
  },
  {
   "cell_type": "code",
   "execution_count": 81,
   "metadata": {},
   "outputs": [],
   "source": [
    "def print_ROC(TPR,FPR):\n",
    "    start=time.time()\n",
    "    plt.plot(FPR,TPR)\n",
    "    plt.plot([0,1],[0,1],'k--')\n",
    "    plt.xlim([0.0,1.0])\n",
    "    plt.ylim([0.0,1.1])\n",
    "    plt.xlabel('False Positive Rate')\n",
    "    plt.ylabel('True Positive Rate')\n",
    "    plt.title('ROC')\n",
    "    end=time.time()\n",
    "   # print(\"Time:print_ROC()\",end-start)\n",
    "    plt.show()"
   ]
  },
  {
   "cell_type": "code",
   "execution_count": 82,
   "metadata": {},
   "outputs": [],
   "source": [
    "def print_ROC_avg(TPR_avg,FPR_avg):\n",
    "    start=time.time()\n",
    "    plt.plot(FPR_avg,TPR_avg)\n",
    "    plt.plot([0,1],[0,1],'k--')\n",
    "    plt.xlim([0.0,1.0])\n",
    "    plt.ylim([0.0,1.1])\n",
    "    plt.xlabel('False Positive Rate')\n",
    "    plt.ylabel('True Positive Rate')\n",
    "    plt.title('Average ROC')\n",
    "    end=time.time()\n",
    "   # print(\"Time:print_ROC_avg\",end-start)\n",
    "    plt.show()"
   ]
  },
  {
   "cell_type": "code",
   "execution_count": 50,
   "metadata": {},
   "outputs": [
    {
     "name": "stdout",
     "output_type": "stream",
     "text": [
      "[ 1  2  3  4  5  6  7  8  9 10 11 12 13 14 15 16 17 18 19 20 21 22 23 24\n",
      " 25 26 27 28 29 30 31 32 33 34 35 36 37 38 39 40 41 42 43 44 45 46 47 48\n",
      " 49]\n"
     ]
    }
   ],
   "source": [
    "x=np.arange(1,50)\n",
    "print(x)"
   ]
  },
  {
   "cell_type": "code",
   "execution_count": null,
   "metadata": {},
   "outputs": [],
   "source": []
  }
 ],
 "metadata": {
  "kernelspec": {
   "display_name": "Python 3",
   "language": "python",
   "name": "python3"
  },
  "language_info": {
   "codemirror_mode": {
    "name": "ipython",
    "version": 3
   },
   "file_extension": ".py",
   "mimetype": "text/x-python",
   "name": "python",
   "nbconvert_exporter": "python",
   "pygments_lexer": "ipython3",
   "version": "3.7.4"
  }
 },
 "nbformat": 4,
 "nbformat_minor": 2
}
